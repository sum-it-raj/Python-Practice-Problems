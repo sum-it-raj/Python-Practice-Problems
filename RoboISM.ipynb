{
 "cells": [
  {
   "cell_type": "code",
   "execution_count": 1,
   "id": "a639e5d2",
   "metadata": {},
   "outputs": [
    {
     "name": "stdout",
     "output_type": "stream",
     "text": [
      "Enter the parameter(asc/desc/none):asc\n",
      "Enter the number of elements :3\n",
      "23\n",
      "43\n",
      "65\n",
      "[23, 43, 65]\n"
     ]
    }
   ],
   "source": [
    "#1\n",
    "list = []\n",
    "\n",
    "para = input(\"Enter the parameter(asc/desc/none):\")\n",
    "n    = int(input(\"Enter the number of elements :\"))\n",
    "for i in range(n):\n",
    "    ele = int(input())\n",
    "  \n",
    "    list.append(ele) \n",
    "def order(para,list):\n",
    "    if (para == \"asc\"):\n",
    "         list.sort()\n",
    "    if (para == \"desc\"):\n",
    "        return list.sort(reverse = True)   \n",
    "    else:\n",
    "        return list\n",
    "\n",
    "    return para,list\n",
    "\n",
    "print(order(para, list))"
   ]
  },
  {
   "cell_type": "code",
   "execution_count": 45,
   "id": "1512af80",
   "metadata": {},
   "outputs": [
    {
     "name": "stdout",
     "output_type": "stream",
     "text": [
      "*****6789\n"
     ]
    }
   ],
   "source": [
    "#2\n",
    "def masking(number, mask):\n",
    "    str = ''\n",
    "    n = mask\n",
    "    for i in number[:-n]:\n",
    "        str += '*'\n",
    "    str += number[-n:]\n",
    "    return str\n",
    "print(masking(\"123456789\", 4))"
   ]
  },
  {
   "cell_type": "code",
   "execution_count": 38,
   "id": "45583059",
   "metadata": {},
   "outputs": [
    {
     "name": "stdout",
     "output_type": "stream",
     "text": [
      "Enter the first no:90\n",
      "Enter the operator:+\n",
      "Enter the second no:3\n",
      "The required addition is:  93.0\n"
     ]
    }
   ],
   "source": [
    "#3\n",
    "a = float(input(\"Enter the first no:\"))\n",
    "x = input(\"Enter the operator:\")\n",
    "b = float(input(\"Enter the second no:\"))\n",
    "\n",
    "if (x == \"+\"):\n",
    "    print(\"The required addition is: \",a+b)\n",
    "if (x == \"-\"):\n",
    "    print(\"The required subtracction is:\",a-b)\n",
    "if b == \"*\":\n",
    "    print(\"The required multiplication is:\",a*c)\n",
    "if b == \"/\":\n",
    "    print(\"The required division is:\",a/c)"
   ]
  },
  {
   "cell_type": "code",
   "execution_count": 2,
   "id": "7bf7ee0b",
   "metadata": {},
   "outputs": [
    {
     "name": "stdout",
     "output_type": "stream",
     "text": [
      "Enter the string:HELLO\n",
      "Original string is: HELLO\n",
      "Double string is: HHEELLLLOO\n"
     ]
    }
   ],
   "source": [
    "#Q4\n",
    "str1 = input(\"Enter the string:\")\n",
    "str2 = \"\"\n",
    "for i in str1:\n",
    "    str2 = str2 + i*2\n",
    "print(\"Original string is:\",str1)\n",
    "print(\"Double string is:\",str2)"
   ]
  },
  {
   "cell_type": "code",
   "execution_count": 3,
   "id": "65909163",
   "metadata": {},
   "outputs": [
    {
     "name": "stdout",
     "output_type": "stream",
     "text": [
      "[1, 2, 3, 4, 5, 6, 7, 8, 9, 10, 11, 12, 13, 14, 15, 16, 17, 18, 19, 20, 21, 22, 23, 24, 25, 26, 27, 28, 29, 30, 31, 32, 33, 34, 35, 36, 37, 38, 39, 40, 41, 42, 43, 44, 45, 46, 47, 48, 49, 50, 51, 52, 53, 54, 55, 56, 57, 58, 59, 60, 61, 62, 63, 64, 65, 66, 67, 68, 69, 70, 71, 72, 73, 74, 75, 76, 77, 78, 79, 80, 81, 82, 83, 84, 85, 86, 87, 88, 89, 90, 91, 92, 93, 94, 95, 96, 97, 98, 99, 54]\n",
      "54\n"
     ]
    }
   ],
   "source": [
    "#5\n",
    "arr = []\n",
    "for i in range(99):\n",
    "    arr.append(i+1)\n",
    "    \n",
    "arr.append(54)\n",
    "print(arr)\n",
    "\n",
    "def repeated_digit(array):\n",
    "    array.sort()\n",
    "    for i in range(len(array)-1):\n",
    "        if(array[i] == array[i+1]):\n",
    "            return(array[i])\n",
    "print(repeated_digit(arr))"
   ]
  },
  {
   "cell_type": "code",
   "execution_count": 25,
   "id": "621e91dd",
   "metadata": {},
   "outputs": [
    {
     "name": "stdout",
     "output_type": "stream",
     "text": [
      "Enter the starting range:100\n",
      "Enter the end range: 2333\n",
      "Prime numbers in the range 100 to 2333\n",
      "101 103 107 109 113 127 131 137 139 149 151 157 163 167 173 179 181 191 193 197 199 211 223 227 229 233 239 241 251 257 263 269 271 277 281 283 293 307 311 313 317 331 337 347 349 353 359 367 373 379 383 389 397 401 409 419 421 431 433 439 443 449 457 461 463 467 479 487 491 499 503 509 521 523 541 547 557 563 569 571 577 587 593 599 601 607 613 617 619 631 641 643 647 653 659 661 673 677 683 691 701 709 719 727 733 739 743 751 757 761 769 773 787 797 809 811 821 823 827 829 839 853 857 859 863 877 881 883 887 907 911 919 929 937 941 947 953 967 971 977 983 991 997 1009 1013 1019 1021 1031 1033 1039 1049 1051 1061 1063 1069 1087 1091 1093 1097 1103 1109 1117 1123 1129 1151 1153 1163 1171 1181 1187 1193 1201 1213 1217 1223 1229 1231 1237 1249 1259 1277 1279 1283 1289 1291 1297 1301 1303 1307 1319 1321 1327 1361 1367 1373 1381 1399 1409 1423 1427 1429 1433 1439 1447 1451 1453 1459 1471 1481 1483 1487 1489 1493 1499 1511 1523 1531 1543 1549 1553 1559 1567 1571 1579 1583 1597 1601 1607 1609 1613 1619 1621 1627 1637 1657 1663 1667 1669 1693 1697 1699 1709 1721 1723 1733 1741 1747 1753 1759 1777 1783 1787 1789 1801 1811 1823 1831 1847 1861 1867 1871 1873 1877 1879 1889 1901 1907 1913 1931 1933 1949 1951 1973 1979 1987 1993 1997 1999 2003 2011 2017 2027 2029 2039 2053 2063 2069 2081 2083 2087 2089 2099 2111 2113 2129 2131 2137 2141 2143 2153 2161 2179 2203 2207 2213 2221 2237 2239 2243 2251 2267 2269 2273 2281 2287 2293 2297 2309 2311 2333 "
     ]
    }
   ],
   "source": [
    "#Q6\n",
    "start = int (input(\"Enter the starting range:\"))\n",
    "end = int (input(\"Enter the end range: \"))\n",
    "\n",
    "print (\"Prime numbers in the range\", start, \"to\", end)\n",
    "\n",
    "for i in range(start, end+1):\n",
    "    flag = 0\n",
    "    for j in range(2, i):\n",
    "        if (i % j == 0):\n",
    "            flag = 1\n",
    "            break\n",
    "            \n",
    "    if (flag == 0):\n",
    "        print (i, end = ' ')"
   ]
  },
  {
   "cell_type": "code",
   "execution_count": 4,
   "id": "95c55a88",
   "metadata": {},
   "outputs": [
    {
     "name": "stdout",
     "output_type": "stream",
     "text": [
      "Number of elements in array- 5\n",
      "Enter the element: 2\n",
      "Enter the element: 2\n",
      "Enter the element: 2\n",
      "Enter the element: 3\n",
      "Enter the element: 6\n",
      "The most frequent number of list is- 2\n",
      "The number appeared  3 times in list\n"
     ]
    }
   ],
   "source": [
    "#7\n",
    "list1 = []\n",
    "n = int(input('Number of elements in array- '))\n",
    "for i in range(n):\n",
    "  element = int(input('Enter the element: '))\n",
    "  list1.append(element)\n",
    "count = 0\n",
    "temp = 0\n",
    "index = 0\n",
    "for x in range (0,len(list1)):\n",
    "  temp = list1.count(list1[x])\n",
    "\n",
    "  if (temp>count):\n",
    "    count = temp\n",
    "    index = x\n",
    "mostFrequentNumber = list1[index]\n",
    "print('The most frequent number of list is-', mostFrequentNumber)\n",
    "print('The number appeared ', count, 'times in list')"
   ]
  },
  {
   "cell_type": "code",
   "execution_count": 21,
   "id": "c6de39d1",
   "metadata": {},
   "outputs": [
    {
     "name": "stdout",
     "output_type": "stream",
     "text": [
      "Enter the string here:12345sumit\n",
      "15\n"
     ]
    }
   ],
   "source": [
    "#8\n",
    "str1 = input(\"Enter the string here:\")\n",
    "def sum_digits_string(str1):\n",
    "    sum_digit = 0\n",
    "    for x in str1:\n",
    "        if x.isdigit() == True:\n",
    "            z = int(x)\n",
    "            sum_digit = sum_digit + z\n",
    "            \n",
    "    return sum_digit\n",
    "print(sum_digits_string(str1))     "
   ]
  },
  {
   "cell_type": "code",
   "execution_count": 25,
   "id": "180b7173",
   "metadata": {},
   "outputs": [
    {
     "name": "stdout",
     "output_type": "stream",
     "text": [
      "Enter the string here:sacsacsac\n",
      "String after sorting :  aaacccsss\n"
     ]
    }
   ],
   "source": [
    "#9\n",
    "test_string = input(\"Enter the string here:\")\n",
    "\n",
    "res = ''.join(sorted(test_string))\n",
    "\n",
    "print(\"String after sorting : \",res)"
   ]
  },
  {
   "cell_type": "code",
   "execution_count": 37,
   "id": "30ec080e",
   "metadata": {},
   "outputs": [
    {
     "name": "stdout",
     "output_type": "stream",
     "text": [
      "Enter the first no:32\n",
      "Enter the second no:3\n",
      "The first no. after swapping: 3\n",
      "The second no. after swapping: 32\n"
     ]
    }
   ],
   "source": [
    "#10\n",
    "x = int(input(\"Enter the first no:\"))\n",
    "y = int(input(\"Enter the second no:\"))\n",
    "x = x^y\n",
    "y = x^y\n",
    "x = x^y\n",
    "print(\"The first no. after swapping:\", x)\n",
    "print(\"The second no. after swapping:\", y)"
   ]
  }
 ],
 "metadata": {
  "kernelspec": {
   "display_name": "Python 3 (ipykernel)",
   "language": "python",
   "name": "python3"
  },
  "language_info": {
   "codemirror_mode": {
    "name": "ipython",
    "version": 3
   },
   "file_extension": ".py",
   "mimetype": "text/x-python",
   "name": "python",
   "nbconvert_exporter": "python",
   "pygments_lexer": "ipython3",
   "version": "3.9.7"
  }
 },
 "nbformat": 4,
 "nbformat_minor": 5
}
